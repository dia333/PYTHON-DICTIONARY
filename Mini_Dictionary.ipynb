{
  "nbformat": 4,
  "nbformat_minor": 0,
  "metadata": {
    "colab": {
      "name": "Mini Dictionary.ipynb",
      "provenance": []
    },
    "kernelspec": {
      "name": "python3",
      "display_name": "Python 3"
    },
    "language_info": {
      "name": "python"
    }
  },
  "cells": [
    {
      "cell_type": "code",
      "metadata": {
        "colab": {
          "base_uri": "https://localhost:8080/"
        },
        "id": "dduo93uRG8OI",
        "outputId": "b4daf7c6-5732-4a60-c14b-2175b57d8f22"
      },
      "source": [
        "import json\n",
        "from difflib import get_close_matches\n",
        "data=json.load(open(\"data.json\"))\n",
        "type(data)"
      ],
      "execution_count": null,
      "outputs": [
        {
          "output_type": "execute_result",
          "data": {
            "text/plain": [
              "dict"
            ]
          },
          "metadata": {
            "tags": []
          },
          "execution_count": 9
        }
      ]
    },
    {
      "cell_type": "code",
      "metadata": {
        "colab": {
          "base_uri": "https://localhost:8080/"
        },
        "id": "DsnpLHbVKlPb",
        "outputId": "4bce5e0c-d87a-4e68-dda2-bdc45c76339e"
      },
      "source": [
        "def dictionary(word):\n",
        "  word=word.lower()\n",
        "  if word in data:\n",
        "    return data[word]\n",
        "  elif word.title() in data:\n",
        "        return data[word.title()]\n",
        "  elif word.upper() in data: \n",
        "        return data[word.upper()]\n",
        "  elif len(get_close_matches(word,data.keys()))>0:\n",
        "    answer=input(\"did you mean %s instead? Enter Y if yes, else enter N \" %get_close_matches(word,data.keys())[0])\n",
        "    if answer==\"Y\":\n",
        "      return data[get_close_matches(word,data.keys())[0]]\n",
        "    elif answer==\"N\":\n",
        "      return \"word doesn't exist, check again\"\n",
        "  else:\n",
        "    return \"word doesn't exist, check again\"\n",
        "word=input(\"enter the word\\n\")\n",
        "output=dictionary(word)\n",
        "if type(output)==list:\n",
        "  for i in output:\n",
        "    print(i)\n",
        "else:\n",
        "  print(output)"
      ],
      "execution_count": null,
      "outputs": [
        {
          "output_type": "stream",
          "text": [
            "enter the word\n",
            "RAINNN\n",
            "did you mean rain instead? Enter Y if yes, else enter N Y\n",
            "Precipitation in the form of liquid water drops with diameters greater than 0.5 millimetres.\n",
            "To fall from the clouds in drops of water.\n"
          ],
          "name": "stdout"
        }
      ]
    }
  ]
}